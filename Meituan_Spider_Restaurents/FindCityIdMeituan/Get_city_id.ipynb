{
 "cells": [
  {
   "cell_type": "markdown",
   "metadata": {},
   "source": [
    "# Find City id in Meituan API\n",
    "\n",
    "- Based on lat and lng\n",
    "- 目前查找的是郑州. \n",
    "- 如果需要查找其他城市的id，修改spider_develop_get_city_ID_meituan.py 里的经纬度即可"
   ]
  },
  {
   "cell_type": "code",
   "execution_count": 1,
   "metadata": {},
   "outputs": [],
   "source": [
    "import requests\n",
    "import json\n",
    "from lxml import etree\n",
    "import pandas as pd\n",
    "import re\n",
    "import math\n",
    "import urllib\n",
    "import urllib.request as urllib2\n",
    "import xlsxwriter\n",
    "from bs4 import BeautifulSoup\n",
    "import warnings\n",
    "warnings.filterwarnings('ignore')\n",
    "\n",
    "import scrapy\n",
    "from scrapy.crawler import CrawlerProcess\n",
    "from scrapy.utils.project import get_project_settings\n",
    "\n",
    "# set headers\n",
    "headers = {'User-Agent': 'Mozilla/5.0 (Macintosh; Intel Mac OS X 10_12_3) AppleWebKit/537.36 (KHTML, like Gecko) Chrome/56.0.2924.87 Safari/537.36'}"
   ]
  },
  {
   "cell_type": "code",
   "execution_count": 2,
   "metadata": {},
   "outputs": [
    {
     "name": "stdout",
     "output_type": "stream",
     "text": [
      "Meituan Spider is ready\n",
      "error2\n",
      "http://api.meituan.com/group/v4/deal/select/city/2/cate/1?sort=solds&hasGroup=true&mpt_cate1=1&offset=0&limit=25\n",
      "error2\n",
      "http://api.meituan.com/group/v4/deal/select/city/4/cate/1?sort=solds&hasGroup=true&mpt_cate1=1&offset=0&limit=25\n",
      "error2\n",
      "http://api.meituan.com/group/v4/deal/select/city/8/cate/1?sort=solds&hasGroup=true&mpt_cate1=1&offset=0&limit=25\n",
      "10\n",
      "------------------------------------------------------------\n",
      "error2\n",
      "http://api.meituan.com/group/v4/deal/select/city/15/cate/1?sort=solds&hasGroup=true&mpt_cate1=1&offset=0&limit=25\n",
      "error2\n",
      "http://api.meituan.com/group/v4/deal/select/city/19/cate/1?sort=solds&hasGroup=true&mpt_cate1=1&offset=0&limit=25\n",
      "error2\n",
      "http://api.meituan.com/group/v4/deal/select/city/19/cate/1?sort=solds&hasGroup=true&mpt_cate1=1&offset=0&limit=25\n",
      "20\n",
      "------------------------------------------------------------\n",
      "error2\n",
      "http://api.meituan.com/group/v4/deal/select/city/23/cate/1?sort=solds&hasGroup=true&mpt_cate1=1&offset=0&limit=25\n",
      "error2\n",
      "http://api.meituan.com/group/v4/deal/select/city/27/cate/1?sort=solds&hasGroup=true&mpt_cate1=1&offset=0&limit=25\n",
      "error2\n",
      "http://api.meituan.com/group/v4/deal/select/city/28/cate/1?sort=solds&hasGroup=true&mpt_cate1=1&offset=0&limit=25\n",
      "30\n",
      "------------------------------------------------------------\n",
      "error2\n",
      "http://api.meituan.com/group/v4/deal/select/city/30/cate/1?sort=solds&hasGroup=true&mpt_cate1=1&offset=0&limit=25\n",
      "error2\n",
      "http://api.meituan.com/group/v4/deal/select/city/30/cate/1?sort=solds&hasGroup=true&mpt_cate1=1&offset=0&limit=25\n",
      "error2\n",
      "http://api.meituan.com/group/v4/deal/select/city/31/cate/1?sort=solds&hasGroup=true&mpt_cate1=1&offset=0&limit=25\n",
      "error2\n",
      "http://api.meituan.com/group/v4/deal/select/city/32/cate/1?sort=solds&hasGroup=true&mpt_cate1=1&offset=0&limit=25\n",
      "40\n",
      "------------------------------------------------------------\n",
      "error2\n",
      "http://api.meituan.com/group/v4/deal/select/city/49/cate/1?sort=solds&hasGroup=true&mpt_cate1=1&offset=0&limit=25\n",
      "50\n",
      "------------------------------------------------------------\n",
      "error2\n",
      "http://api.meituan.com/group/v4/deal/select/city/57/cate/1?sort=solds&hasGroup=true&mpt_cate1=1&offset=0&limit=25\n",
      "60\n",
      "------------------------------------------------------------\n",
      "error2\n",
      "http://api.meituan.com/group/v4/deal/select/city/63/cate/1?sort=solds&hasGroup=true&mpt_cate1=1&offset=0&limit=25\n",
      "error2\n",
      "http://api.meituan.com/group/v4/deal/select/city/68/cate/1?sort=solds&hasGroup=true&mpt_cate1=1&offset=0&limit=25\n",
      "70\n",
      "------------------------------------------------------------\n",
      "error2\n",
      "http://api.meituan.com/group/v4/deal/select/city/70/cate/1?sort=solds&hasGroup=true&mpt_cate1=1&offset=0&limit=25\n",
      "error2\n",
      "http://api.meituan.com/group/v4/deal/select/city/70/cate/1?sort=solds&hasGroup=true&mpt_cate1=1&offset=0&limit=25\n",
      "We find the city ID!\n",
      "二七区大学路与中原路交叉口向南100米路东永辉超市2楼\n",
      "The target city ID is: 73\n"
     ]
    }
   ],
   "source": [
    "from spider_develop_get_city_ID_meituan import MeituanSpider_getCityId\n",
    "\n",
    "\n",
    "\n",
    "spider = MeituanSpider_getCityId()\n",
    "\n",
    "spider.run()"
   ]
  },
  {
   "cell_type": "code",
   "execution_count": null,
   "metadata": {},
   "outputs": [],
   "source": []
  }
 ],
 "metadata": {
  "kernelspec": {
   "display_name": "Python 3",
   "language": "python",
   "name": "python3"
  },
  "language_info": {
   "codemirror_mode": {
    "name": "ipython",
    "version": 3
   },
   "file_extension": ".py",
   "mimetype": "text/x-python",
   "name": "python",
   "nbconvert_exporter": "python",
   "pygments_lexer": "ipython3",
   "version": "3.7.1"
  }
 },
 "nbformat": 4,
 "nbformat_minor": 2
}
